{
 "cells": [
  {
   "cell_type": "code",
   "execution_count": 3,
   "metadata": {},
   "outputs": [
    {
     "name": "stderr",
     "output_type": "stream",
     "text": [
      "/Users/theoripoll/.pyenv/versions/3.11.2/envs/env_NLP3/lib/python3.11/site-packages/tqdm/auto.py:21: TqdmWarning: IProgress not found. Please update jupyter and ipywidgets. See https://ipywidgets.readthedocs.io/en/stable/user_install.html\n",
      "  from .autonotebook import tqdm as notebook_tqdm\n"
     ]
    }
   ],
   "source": [
    "from MyRag import MyRag"
   ]
  },
  {
   "cell_type": "code",
   "execution_count": 4,
   "metadata": {},
   "outputs": [
    {
     "name": "stderr",
     "output_type": "stream",
     "text": [
      ".gitattributes: 100%|██████████| 1.52k/1.52k [00:00<00:00, 983kB/s]\n",
      "1_Pooling/config.json: 100%|██████████| 190/190 [00:00<00:00, 521kB/s]\n",
      "README.md: 100%|██████████| 69.0k/69.0k [00:00<00:00, 42.7MB/s]\n",
      "config.json: 100%|██████████| 1.18k/1.18k [00:00<00:00, 3.62MB/s]\n",
      "config_sentence_transformers.json: 100%|██████████| 117/117 [00:00<00:00, 220kB/s]\n",
      "model.mlmodel: 100%|██████████| 136k/136k [00:00<00:00, 16.7MB/s]\n",
      "weight.bin: 100%|██████████| 551M/551M [00:45<00:00, 12.2MB/s] \n",
      "(…)ml/float32_model.mlpackage/Manifest.json: 100%|██████████| 617/617 [00:00<00:00, 2.58MB/s]\n",
      "generation_config.json: 100%|██████████| 90.0/90.0 [00:00<00:00, 123kB/s]\n",
      "model-w-mean-pooling.onnx: 100%|██████████| 547M/547M [00:36<00:00, 14.9MB/s] \n",
      "model.onnx: 100%|██████████| 547M/547M [00:39<00:00, 13.9MB/s] \n",
      "model.safetensors: 100%|██████████| 275M/275M [00:17<00:00, 16.0MB/s] \n",
      "pytorch_model.bin: 100%|██████████| 275M/275M [00:17<00:00, 15.4MB/s] \n",
      "sentence_bert_config.json: 100%|██████████| 99.0/99.0 [00:00<00:00, 167kB/s]\n",
      "special_tokens_map.json: 100%|██████████| 125/125 [00:00<00:00, 388kB/s]\n",
      "tokenizer.json: 100%|██████████| 712k/712k [00:00<00:00, 2.75MB/s]\n",
      "tokenizer_config.json: 100%|██████████| 373/373 [00:00<00:00, 1.13MB/s]\n",
      "vocab.txt: 100%|██████████| 232k/232k [00:00<00:00, 12.7MB/s]\n",
      "modules.json: 100%|██████████| 229/229 [00:00<00:00, 812kB/s]\n",
      "configuration_bert.py: 100%|██████████| 8.24k/8.24k [00:00<00:00, 7.45MB/s]\n",
      "A new version of the following files was downloaded from https://huggingface.co/jinaai/jina-bert-implementation:\n",
      "- configuration_bert.py\n",
      ". Make sure to double-check they do not contain any added malicious code. To avoid downloading new versions of the code file, you can pin a revision.\n"
     ]
    }
   ],
   "source": [
    "myRag = MyRag()"
   ]
  },
  {
   "cell_type": "code",
   "execution_count": null,
   "metadata": {},
   "outputs": [],
   "source": []
  }
 ],
 "metadata": {
  "kernelspec": {
   "display_name": "env_NLP3",
   "language": "python",
   "name": "python3"
  },
  "language_info": {
   "codemirror_mode": {
    "name": "ipython",
    "version": 3
   },
   "file_extension": ".py",
   "mimetype": "text/x-python",
   "name": "python",
   "nbconvert_exporter": "python",
   "pygments_lexer": "ipython3",
   "version": "3.11.2"
  }
 },
 "nbformat": 4,
 "nbformat_minor": 2
}
